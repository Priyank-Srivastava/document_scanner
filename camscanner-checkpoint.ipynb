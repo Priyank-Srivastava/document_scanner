{
 "cells": [
  {
   "cell_type": "code",
   "execution_count": 21,
   "metadata": {},
   "outputs": [],
   "source": [
    "import cv2\n",
    "import numpy as np\n",
    "\n",
    "def contour(img,i):\n",
    "    \n",
    "    grey = cv2.cvtColor(img,cv2.COLOR_BGR2GRAY)\n",
    "    grey = cv2.GaussianBlur(grey,(7,7),2)\n",
    "    kernel = cv2.getStructuringElement(cv2.MORPH_ELLIPSE,(37,37))\n",
    "    thresh = cv2.dilate(grey,kernel,iterations = 5)\n",
    "    edge = cv2.Canny(grey,1,250,L2gradient=True)\n",
    "    cnts,hier = cv2.findContours(edge,cv2.RETR_TREE,cv2.CHAIN_APPROX_SIMPLE)\n",
    "    for c in cnts:\n",
    "        perimeter = cv2.arcLength(c,True)\n",
    "        approx = cv2.approxPolyDP(c,0.02*perimeter,True)\n",
    "        if len(approx)==4:\n",
    "            return approx\n",
    "    approx=np.array([[[0,0],[0,620],[620,620],[620,0]]])\n",
    "    return approx\n",
    "\n",
    "def main():\n",
    "    for i in range(1,17):\n",
    "        i=str(i)\n",
    "        file = cv2.imread(\"C:\\\\Users\\\\priya\\\\Desktop\\\\Untitled Folder\\\\scan\\\\page\"+i+\".jpg\")\n",
    "        file = cv2.resize(file, (620,620), interpolation = cv2.INTER_AREA)\n",
    "        cnts = contour(file,i)\n",
    "        cv2.drawContours(file,[cnts],-1,(0,255,0),2)\n",
    "        cnts = np.float32(cnts)\n",
    "        pts = np.float32([[[0,0],[0,640],[400,640],[400,0]]])\n",
    "        dest = cv2.getPerspectiveTransform(cnts,pts)\n",
    "        img = cv2.warpPerspective(file,dest,(400,640))\n",
    "        img = cv2.cvtColor(img,cv2.COLOR_BGR2GRAY)\n",
    "        ret,img = cv2.threshold(img,125,255,cv2.THRESH_BINARY)\n",
    "        cv2.imshow('original'+i,file)\n",
    "        cv2.imshow('scanned'+i,img)\n",
    "    cv2.waitKey(0)\n",
    "    cv2.destroyAllWindows()\n",
    "if __name__ == '__main__':\n",
    "    main()"
   ]
  },
  {
   "cell_type": "code",
   "execution_count": null,
   "metadata": {},
   "outputs": [],
   "source": []
  }
 ],
 "metadata": {
  "kernelspec": {
   "display_name": "Python 3",
   "language": "python",
   "name": "python3"
  },
  "language_info": {
   "codemirror_mode": {
    "name": "ipython",
    "version": 3
   },
   "file_extension": ".py",
   "mimetype": "text/x-python",
   "name": "python",
   "nbconvert_exporter": "python",
   "pygments_lexer": "ipython3",
   "version": "3.7.6"
  }
 },
 "nbformat": 4,
 "nbformat_minor": 4
}
